{
 "cells": [
  {
   "attachments": {},
   "cell_type": "markdown",
   "metadata": {},
   "source": [
    "//Note//\n",
    "This dataset is kind've shitty. 30 rows, 3 cold--> id, experience, salary. Chose because it's so simple, but might change if too easy\n",
    "Read in dataset"
   ]
  },
  {
   "cell_type": "code",
   "execution_count": 7,
   "metadata": {},
   "outputs": [],
   "source": [
    "import pandas as pd\n",
    "import numpy as np\n",
    "import matplotlib.pyplot as plt"
   ]
  },
  {
   "cell_type": "code",
   "execution_count": 4,
   "metadata": {},
   "outputs": [
    {
     "data": {
      "text/html": [
       "<div>\n",
       "<style scoped>\n",
       "    .dataframe tbody tr th:only-of-type {\n",
       "        vertical-align: middle;\n",
       "    }\n",
       "\n",
       "    .dataframe tbody tr th {\n",
       "        vertical-align: top;\n",
       "    }\n",
       "\n",
       "    .dataframe thead th {\n",
       "        text-align: right;\n",
       "    }\n",
       "</style>\n",
       "<table border=\"1\" class=\"dataframe\">\n",
       "  <thead>\n",
       "    <tr style=\"text-align: right;\">\n",
       "      <th></th>\n",
       "      <th>ID</th>\n",
       "      <th>YearsExperience</th>\n",
       "      <th>Salary</th>\n",
       "    </tr>\n",
       "  </thead>\n",
       "  <tbody>\n",
       "    <tr>\n",
       "      <th>0</th>\n",
       "      <td>0</td>\n",
       "      <td>1.2</td>\n",
       "      <td>39344.0</td>\n",
       "    </tr>\n",
       "    <tr>\n",
       "      <th>1</th>\n",
       "      <td>1</td>\n",
       "      <td>1.4</td>\n",
       "      <td>46206.0</td>\n",
       "    </tr>\n",
       "    <tr>\n",
       "      <th>2</th>\n",
       "      <td>2</td>\n",
       "      <td>1.6</td>\n",
       "      <td>37732.0</td>\n",
       "    </tr>\n",
       "    <tr>\n",
       "      <th>3</th>\n",
       "      <td>3</td>\n",
       "      <td>2.1</td>\n",
       "      <td>43526.0</td>\n",
       "    </tr>\n",
       "    <tr>\n",
       "      <th>4</th>\n",
       "      <td>4</td>\n",
       "      <td>2.3</td>\n",
       "      <td>39892.0</td>\n",
       "    </tr>\n",
       "  </tbody>\n",
       "</table>\n",
       "</div>"
      ],
      "text/plain": [
       "   ID  YearsExperience   Salary\n",
       "0   0              1.2  39344.0\n",
       "1   1              1.4  46206.0\n",
       "2   2              1.6  37732.0\n",
       "3   3              2.1  43526.0\n",
       "4   4              2.3  39892.0"
      ]
     },
     "execution_count": 4,
     "metadata": {},
     "output_type": "execute_result"
    }
   ],
   "source": [
    "salary_df = pd.read_csv('dataset/Salary_dataset.csv')\n",
    "salary_df.head()"
   ]
  },
  {
   "cell_type": "code",
   "execution_count": 9,
   "metadata": {},
   "outputs": [],
   "source": [
    "# get y values, years experience\n",
    "years_exp = salary_df['YearsExperience'].values\n",
    "# get x values, salary\n",
    "salary = salary_df['Salary'].values"
   ]
  },
  {
   "cell_type": "code",
   "execution_count": 10,
   "metadata": {},
   "outputs": [
    {
     "data": {
      "image/png": "[encoded data removed]",
      "text/plain": [
       "<Figure size 640x480 with 1 Axes>"
      ]
     },
     "metadata": {},
     "output_type": "display_data"
    }
   ],
   "source": [
    "# visualize data\n",
    "plt.scatter(years_exp, salary)\n",
    "plt.title(\"Feature(Years Experience) vs. Target(Salary)\")\n",
    "plt.xlabel('Feature')\n",
    "plt.ylabel('Target')\n",
    "\n",
    "plt.show()"
   ]
  },
  {
   "cell_type": "code",
   "execution_count": null,
   "metadata": {},
   "outputs": [],
   "source": [
    "# add col of 0 to represent coefficients\n",
    "theta = np.zeros(salary.shape[1])"
   ]
  },
  {
   "cell_type": "code",
   "execution_count": null,
   "metadata": {},
   "outputs": [],
   "source": [
    "# loss function --> min of RMSE, obtained by subtracting the prediced vals from actual vals\n",
    "def compute_loss(salary, years_exp, theta):\n",
    "    # find num of observations \n",
    "    m = len(salary)\n",
    "    # as defined in read me you can represent in matrix form\n",
    "    # dot product of feature matrix(years_exp) and theta(coefficients) yields predicted vals for salary --> y = mx+b\n",
    "    Y_hat = years_exp.dot(theta)\n",
    "    # error --> predicted y - actual y squared. square ensure nums are positive and emphasizes larger errors\n",
    "    # error is a vector because Y_hat and salary are as well\n",
    "    error = (Y_hat-salary)**2\n",
    "    # now return rmse\n",
    "    return 1/(2*m)*np.sum(error)"
   ]
  },
  {
   "cell_type": "code",
   "execution_count": null,
   "metadata": {},
   "outputs": [],
   "source": [
    "# gradient descent --> return theta, cost_history\n",
    "\"\"\"//notes//\n",
    "Gradient descent is where the magic happens. Not really just math. Fine tunes theta vector\n",
    "Optimization algo for finding the minimum of a function\n",
    "the steps are:\n",
    "1) begin at random point(in this case all 0s)\n",
    "2) Determine gradient of position--> derivative of loss function with respect to each parameter\n",
    "3) Move towards higher gradient relative to last position. Size of move is determined by learning rate\n",
    "4) Repeat until gradient is at global min\n",
    "\"\"\"\n",
    "def gradient_descent(salary, years_exp, theta, learning_rate, iterations):\n",
    "    m = len(salary)\n",
    "    # initialize loss_history to size of iterations\n",
    "    loss_history = np.zeros(iterations)\n",
    "\n",
    "    # loop through hyperparam iterations\n",
    "\n",
    "    for i in range(iterations):\n",
    "        prediction = np.dot(years_exp, theta)\n",
    "        # compare prediction to val according similar to this equation: β = (X transposed * X)^(-1) * X transposed*Y\n",
    "        # above is analytical approach, solved in one step, gradient descent is an iterative solution\n",
    "        theta = theta - (1/m)* learning_rate * (years_exp.T.dot((prediction-salary)))\n",
    "        # call loss_function!! and add to loss history at index i\n",
    "        loss_history[i] = compute_loss(years_exp, salary, theta)\n",
    "        # loss_history essentialy tracks loss for current val theta at iteration i\n",
    "    return theta, loss_history"
   ]
  },
  {
   "cell_type": "code",
   "execution_count": null,
   "metadata": {},
   "outputs": [],
   "source": [
    "# set hyperparams: learning rate, itererations"
   ]
  },
  {
   "cell_type": "markdown",
   "metadata": {},
   "source": []
  },
  {
   "cell_type": "code",
   "execution_count": null,
   "metadata": {},
   "outputs": [],
   "source": [
    "# run gradient descent"
   ]
  },
  {
   "cell_type": "code",
   "execution_count": null,
   "metadata": {},
   "outputs": [],
   "source": [
    "# r squared function"
   ]
  },
  {
   "cell_type": "code",
   "execution_count": null,
   "metadata": {},
   "outputs": [],
   "source": [
    "# predict function"
   ]
  }
 ],
 "metadata": {
  "kernelspec": {
   "display_name": "Python 3",
   "language": "python",
   "name": "python3"
  },
  "language_info": {
   "codemirror_mode": {
    "name": "ipython",
    "version": 3
   },
   "file_extension": ".py",
   "mimetype": "text/x-python",
   "name": "python",
   "nbconvert_exporter": "python",
   "pygments_lexer": "ipython3",
   "version": "3.11.2"
  },
  "orig_nbformat": 4,
  "vscode": {
   "interpreter": {
    "hash": "aad5d0c6a0f9c30cd72901238502ed626303aaac2d302a6a1bd0bdc4d3ffea1b"
   }
  }
 },
 "nbformat": 4,
 "nbformat_minor": 2
}
